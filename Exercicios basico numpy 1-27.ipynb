{
  "nbformat": 4,
  "nbformat_minor": 0,
  "metadata": {
    "colab": {
      "provenance": []
    },
    "kernelspec": {
      "name": "python3",
      "display_name": "Python 3"
    },
    "language_info": {
      "name": "python"
    }
  },
  "cells": [
    {
      "cell_type": "code",
      "execution_count": 2,
      "metadata": {
        "id": "7LN9IF1f9Lnb"
      },
      "outputs": [],
      "source": [
        "'''\n",
        "EXERCICIOS NUMPY\n",
        "'''\n",
        "import numpy as np"
      ]
    },
    {
      "cell_type": "code",
      "source": [
        "'''\n",
        "Exercício 1\n",
        "Inspecionando um Array NumPy\n",
        "\n",
        "Um objeto numpy possui atributos e métodos, herdados da classe (numpy.ndarray). Crie um array  e inspecione os seguintes atributos:\n",
        "\n",
        "shape: uma tupla que contém o número de elementos (tamanho) em cada dimensão do array;\n",
        "size: número total de elementos do array;\n",
        "ndim: número de dimensões (eixos);\n",
        "nbytes: número de bytes utilizado no armazenamento dos dados;\n",
        "dtype: data type dos elementos do array.\n",
        "'''"
      ],
      "metadata": {
        "id": "2jB0MF6g9Pqm",
        "colab": {
          "base_uri": "https://localhost:8080/",
          "height": 70
        },
        "outputId": "7c003ee2-06ea-49e1-a3ba-8c2a6696e693"
      },
      "execution_count": 3,
      "outputs": [
        {
          "output_type": "execute_result",
          "data": {
            "text/plain": [
              "'\\nExercício 1\\nInspecionando um Array NumPy\\n\\nUm objeto numpy possui atributos e métodos, herdados da classe (numpy.ndarray). Crie um array  e inspecione os seguintes atributos:\\n\\nshape: uma tupla que contém o número de elementos (tamanho) em cada dimensão do array;\\nsize: número total de elementos do array;\\nndim: número de dimensões (eixos);\\nnbytes: número de bytes utilizado no armazenamento dos dados;\\ndtype: data type dos elementos do array.\\n'"
            ],
            "application/vnd.google.colaboratory.intrinsic+json": {
              "type": "string"
            }
          },
          "metadata": {},
          "execution_count": 3
        }
      ]
    },
    {
      "cell_type": "code",
      "source": [
        "array = np.array([1, 2, 3, 4, 5, 6, 7, 8, 9, 10])\n",
        "print('Shape :', array.shape)\n",
        "print('Size: ', array.size)\n",
        "print('Ndim: ', array.ndim)\n",
        "print('Nbytes: ', array.nbytes)\n",
        "print('Dtype: ', array.dtype)"
      ],
      "metadata": {
        "colab": {
          "base_uri": "https://localhost:8080/"
        },
        "id": "J-MfTL5N9e-h",
        "outputId": "efe96848-9351-4f07-975b-30873f04c5db"
      },
      "execution_count": 4,
      "outputs": [
        {
          "output_type": "stream",
          "name": "stdout",
          "text": [
            "Shape : (10,)\n",
            "Size:  10\n",
            "Ndim:  1\n",
            "Nbytes:  80\n",
            "Dtype:  int64\n"
          ]
        }
      ]
    },
    {
      "cell_type": "code",
      "source": [
        "'''\n",
        "Exercício 2\n",
        "Com base no exercício anterior crie uma função que receba um array e mostre na tela seus atributos. \n",
        "Verifique se o argumento inserido é de fato um objeto numpy.\n",
        " Use também a função built-in type() para verificar a classe do objeto.\n",
        "'''"
      ],
      "metadata": {
        "id": "PcqZ8ypR9vMb",
        "colab": {
          "base_uri": "https://localhost:8080/",
          "height": 52
        },
        "outputId": "ef7cd3c7-287d-435f-e5bb-10437bd7cf31"
      },
      "execution_count": 5,
      "outputs": [
        {
          "output_type": "execute_result",
          "data": {
            "text/plain": [
              "'\\nExercício 2\\nCom base no exercício anterior crie uma função que receba um array e mostre na tela seus atributos. \\nVerifique se o argumento inserido é de fato um objeto numpy.\\n Use também a função built-in type() para verificar a classe do objeto.\\n'"
            ],
            "application/vnd.google.colaboratory.intrinsic+json": {
              "type": "string"
            }
          },
          "metadata": {},
          "execution_count": 5
        }
      ]
    },
    {
      "cell_type": "code",
      "source": [
        "def inspecionar_array(array):\n",
        "  if isinstance(array, np.ndarray):\n",
        "    print('Shape :', array.shape)\n",
        "    print('Size: ', array.size)\n",
        "    print('Ndim: ', array.ndim)\n",
        "    print('Nbytes: ', array.nbytes)\n",
        "    print('Dtype: ', array.dtype)\n",
        "    print('Type: ', type(array))\n",
        "    return array  \n",
        "  else:\n",
        "    return 'O objeto inserido não e um NumPy'\n",
        "array = np.array([1, 2, 3, 4, 5, 6, 7, 8, 9, 10])\n",
        "list = [1, 2, 3, 4, 5, 6, 7, 8, 9, 10]\n",
        "inspecionar_array(array)\n",
        "inspecionar_array(list)\n",
        "\n",
        "\n"
      ],
      "metadata": {
        "colab": {
          "base_uri": "https://localhost:8080/",
          "height": 139
        },
        "id": "5GvXeif_-vle",
        "outputId": "d089387c-b437-4acb-cf36-618ab633e551"
      },
      "execution_count": 6,
      "outputs": [
        {
          "output_type": "stream",
          "name": "stdout",
          "text": [
            "Shape : (10,)\n",
            "Size:  10\n",
            "Ndim:  1\n",
            "Nbytes:  80\n",
            "Dtype:  int64\n",
            "Type:  <class 'numpy.ndarray'>\n"
          ]
        },
        {
          "output_type": "execute_result",
          "data": {
            "text/plain": [
              "'O objeto inserido não e um NumPy'"
            ],
            "application/vnd.google.colaboratory.intrinsic+json": {
              "type": "string"
            }
          },
          "metadata": {},
          "execution_count": 6
        }
      ]
    },
    {
      "cell_type": "code",
      "source": [
        "'''\n",
        "Exercício 3\n",
        "Use a função np.array() para criar os arrays unidimensionais listados abaixo:\n",
        "\n",
        "a) Use uma lista como argumento e obtenha:\n",
        "\n",
        "array([-1,  4,  7,  9])\n",
        "\n",
        "\n",
        "b) Use a função range() e obtenha:\n",
        "\n",
        "array([ 1,  2,  3,  4,  5,  6,  7,  8,  9, 10])\n",
        "\n",
        "\n",
        "c)Use uma tupla como argumento e obtenha:\n",
        "\n",
        "array([10, 11, 12, 13, 14])\n",
        "\n",
        "\n",
        "d) Use a função range() e obtenha:\n",
        "   \n",
        "array([1990, 1995, 2000, 2005, 2010, 2015, 2020])\n",
        "\n",
        "\n",
        "e) Use a função range() e obtenha:\n",
        "\n",
        "array([2020, 2010, 2000, 1990, 1980, 1970, 1960, 1950, 1940, 1930, 1920,\n",
        "       1910, 1900])\n",
        "\n",
        "f) Obtenha:\n",
        "array(100)\n",
        "'''"
      ],
      "metadata": {
        "id": "FMIx3QRd_Wq6",
        "colab": {
          "base_uri": "https://localhost:8080/",
          "height": 87
        },
        "outputId": "875fb4eb-2a4f-43e0-bb83-e29a5e95f393"
      },
      "execution_count": 7,
      "outputs": [
        {
          "output_type": "execute_result",
          "data": {
            "text/plain": [
              "'\\nExercício 3\\nUse a função np.array() para criar os arrays unidimensionais listados abaixo:\\n\\na) Use uma lista como argumento e obtenha:\\n\\narray([-1,  4,  7,  9])\\n\\n\\nb) Use a função range() e obtenha:\\n\\narray([ 1,  2,  3,  4,  5,  6,  7,  8,  9, 10])\\n\\n\\nc)Use uma tupla como argumento e obtenha:\\n\\narray([10, 11, 12, 13, 14])\\n\\n\\nd) Use a função range() e obtenha:\\n   \\narray([1990, 1995, 2000, 2005, 2010, 2015, 2020])\\n\\n\\ne) Use a função range() e obtenha:\\n\\narray([2020, 2010, 2000, 1990, 1980, 1970, 1960, 1950, 1940, 1930, 1920,\\n       1910, 1900])\\n\\nf) Obtenha:\\narray(100)\\n'"
            ],
            "application/vnd.google.colaboratory.intrinsic+json": {
              "type": "string"
            }
          },
          "metadata": {},
          "execution_count": 7
        }
      ]
    },
    {
      "cell_type": "code",
      "source": [
        "A = np.array([-1, 4, 7, 9])\n",
        "A"
      ],
      "metadata": {
        "colab": {
          "base_uri": "https://localhost:8080/"
        },
        "id": "c8mmZ_XaCvk4",
        "outputId": "f7346181-b393-4aee-b39e-fea07f6cfb7c"
      },
      "execution_count": 8,
      "outputs": [
        {
          "output_type": "execute_result",
          "data": {
            "text/plain": [
              "array([-1,  4,  7,  9])"
            ]
          },
          "metadata": {},
          "execution_count": 8
        }
      ]
    },
    {
      "cell_type": "code",
      "source": [
        "B = np.array(range(1, 11))\n",
        "B"
      ],
      "metadata": {
        "colab": {
          "base_uri": "https://localhost:8080/"
        },
        "id": "DlCxc6i_C0rO",
        "outputId": "b4b8ef30-28dd-44ac-bbf7-b32ba6ac04b3"
      },
      "execution_count": 9,
      "outputs": [
        {
          "output_type": "execute_result",
          "data": {
            "text/plain": [
              "array([ 1,  2,  3,  4,  5,  6,  7,  8,  9, 10])"
            ]
          },
          "metadata": {},
          "execution_count": 9
        }
      ]
    },
    {
      "cell_type": "code",
      "source": [
        "C = (10, 11, 12, 13, 14)\n",
        "np.array(C)"
      ],
      "metadata": {
        "colab": {
          "base_uri": "https://localhost:8080/"
        },
        "id": "nsCNHvAODGgl",
        "outputId": "a0ad9cda-8406-4af9-9ccb-88104c2e4547"
      },
      "execution_count": 10,
      "outputs": [
        {
          "output_type": "execute_result",
          "data": {
            "text/plain": [
              "array([10, 11, 12, 13, 14])"
            ]
          },
          "metadata": {},
          "execution_count": 10
        }
      ]
    },
    {
      "cell_type": "code",
      "source": [
        "C = np.array(range(1990, 2025, 5))\n",
        "C"
      ],
      "metadata": {
        "colab": {
          "base_uri": "https://localhost:8080/"
        },
        "id": "YnQ7D-z9DVms",
        "outputId": "8c4d3613-54b0-474c-c0c3-a7ea4457f914"
      },
      "execution_count": 11,
      "outputs": [
        {
          "output_type": "execute_result",
          "data": {
            "text/plain": [
              "array([1990, 1995, 2000, 2005, 2010, 2015, 2020])"
            ]
          },
          "metadata": {},
          "execution_count": 11
        }
      ]
    },
    {
      "cell_type": "code",
      "source": [
        "D = np.array(range(2020, 1890, -10))\n",
        "D"
      ],
      "metadata": {
        "colab": {
          "base_uri": "https://localhost:8080/"
        },
        "id": "qCScFjEYDdTX",
        "outputId": "044b6bbf-608d-4221-9c07-cc807e158322"
      },
      "execution_count": 12,
      "outputs": [
        {
          "output_type": "execute_result",
          "data": {
            "text/plain": [
              "array([2020, 2010, 2000, 1990, 1980, 1970, 1960, 1950, 1940, 1930, 1920,\n",
              "       1910, 1900])"
            ]
          },
          "metadata": {},
          "execution_count": 12
        }
      ]
    },
    {
      "cell_type": "code",
      "source": [
        "array = np.array(100)\n",
        "array"
      ],
      "metadata": {
        "colab": {
          "base_uri": "https://localhost:8080/"
        },
        "id": "v2YENoKnDnX1",
        "outputId": "1c4b13c3-f798-4287-afeb-e9b88b4ef8b3"
      },
      "execution_count": 13,
      "outputs": [
        {
          "output_type": "execute_result",
          "data": {
            "text/plain": [
              "array(100)"
            ]
          },
          "metadata": {},
          "execution_count": 13
        }
      ]
    },
    {
      "cell_type": "code",
      "source": [
        "'''\n",
        "A função np.ones() permite criar um array preenchido com o número 1 em todas as suas entradas. \n",
        "Podemos especificar como argumentos o shape e o tipo de dado dtype do array. \n",
        "Use esta função para criar os arrays a seguir:\n",
        "\n",
        "a) array([1., 1., 1., 1., 1., 1., 1., 1., 1., 1.])\n",
        "\n",
        "\n",
        "b)array([[1., 1., 1., 1.],\n",
        "       [1., 1., 1., 1.],\n",
        "       [1., 1., 1., 1.],\n",
        "       [1., 1., 1., 1.]])\n",
        "       \n",
        "\n",
        "c)array([[1, 1],\n",
        "       [1, 1],\n",
        "       [1, 1]])\n",
        "'''"
      ],
      "metadata": {
        "id": "LNAaCYiZDzhU",
        "colab": {
          "base_uri": "https://localhost:8080/",
          "height": 70
        },
        "outputId": "3a8ec25e-f031-4c3f-b9a5-1e5c5d23b0ee"
      },
      "execution_count": 14,
      "outputs": [
        {
          "output_type": "execute_result",
          "data": {
            "text/plain": [
              "'\\nA função np.ones() permite criar um array preenchido com o número 1 em todas as suas entradas. \\nPodemos especificar como argumentos o shape e o tipo de dado dtype do array. \\nUse esta função para criar os arrays a seguir:\\n\\na) array([1., 1., 1., 1., 1., 1., 1., 1., 1., 1.])\\n\\n\\nb)array([[1., 1., 1., 1.],\\n       [1., 1., 1., 1.],\\n       [1., 1., 1., 1.],\\n       [1., 1., 1., 1.]])\\n       \\n\\nc)array([[1, 1],\\n       [1, 1],\\n       [1, 1]])\\n'"
            ],
            "application/vnd.google.colaboratory.intrinsic+json": {
              "type": "string"
            }
          },
          "metadata": {},
          "execution_count": 14
        }
      ]
    },
    {
      "cell_type": "code",
      "source": [
        "A = np.ones(10)\n",
        "A"
      ],
      "metadata": {
        "colab": {
          "base_uri": "https://localhost:8080/"
        },
        "id": "Uql56axEEkNy",
        "outputId": "f7f8c060-d676-4270-b109-b0fb6de8b080"
      },
      "execution_count": 15,
      "outputs": [
        {
          "output_type": "execute_result",
          "data": {
            "text/plain": [
              "array([1., 1., 1., 1., 1., 1., 1., 1., 1., 1.])"
            ]
          },
          "metadata": {},
          "execution_count": 15
        }
      ]
    },
    {
      "cell_type": "code",
      "source": [
        "B = np.ones(shape = (4, 4))\n",
        "B"
      ],
      "metadata": {
        "colab": {
          "base_uri": "https://localhost:8080/"
        },
        "id": "PtA7fg_TEpXH",
        "outputId": "2c1bccea-087d-4c7a-b918-2513d2303989"
      },
      "execution_count": 16,
      "outputs": [
        {
          "output_type": "execute_result",
          "data": {
            "text/plain": [
              "array([[1., 1., 1., 1.],\n",
              "       [1., 1., 1., 1.],\n",
              "       [1., 1., 1., 1.],\n",
              "       [1., 1., 1., 1.]])"
            ]
          },
          "metadata": {},
          "execution_count": 16
        }
      ]
    },
    {
      "cell_type": "code",
      "source": [
        "C = np.ones(shape = (3, 2))\n",
        "C"
      ],
      "metadata": {
        "colab": {
          "base_uri": "https://localhost:8080/"
        },
        "id": "ApbqSwmJEywc",
        "outputId": "79fc14b9-48dd-47cc-fb01-83f47c02730e"
      },
      "execution_count": 17,
      "outputs": [
        {
          "output_type": "execute_result",
          "data": {
            "text/plain": [
              "array([[1., 1.],\n",
              "       [1., 1.],\n",
              "       [1., 1.]])"
            ]
          },
          "metadata": {},
          "execution_count": 17
        }
      ]
    },
    {
      "cell_type": "code",
      "source": [
        "'''\n",
        "A função np.zeros() permite criar um array preenchido com o número 0 em todas as suas entradas. \n",
        "Podemos especificar como argumentos o shape e o tipo de dado dtype do array (default é o float). \n",
        "Use esta função para criar os arrays a seguir:\n",
        "\n",
        "a)array([0., 0., 0., 0., 0., 0., 0., 0., 0., 0.])\n",
        "\n",
        "\n",
        "b)array([[0., 0.],\n",
        "       [0., 0.]])  \n",
        "       \n",
        "\n",
        "c)array([[0., 0., 0., 0., 0., 0.],\n",
        "       [0., 0., 0., 0., 0., 0.],\n",
        "       [0., 0., 0., 0., 0., 0.],\n",
        "       [0., 0., 0., 0., 0., 0.]])\n",
        "\n",
        "'''"
      ],
      "metadata": {
        "id": "hgiSZtxIF2TW",
        "colab": {
          "base_uri": "https://localhost:8080/",
          "height": 70
        },
        "outputId": "fe10062c-bc38-43d0-ad43-ede3d48e17f7"
      },
      "execution_count": 18,
      "outputs": [
        {
          "output_type": "execute_result",
          "data": {
            "text/plain": [
              "'\\nA função np.zeros() permite criar um array preenchido com o número 0 em todas as suas entradas. \\nPodemos especificar como argumentos o shape e o tipo de dado dtype do array (default é o float). \\nUse esta função para criar os arrays a seguir:\\n\\na)array([0., 0., 0., 0., 0., 0., 0., 0., 0., 0.])\\n\\n\\nb)array([[0., 0.],\\n       [0., 0.]])  \\n       \\n\\nc)array([[0., 0., 0., 0., 0., 0.],\\n       [0., 0., 0., 0., 0., 0.],\\n       [0., 0., 0., 0., 0., 0.],\\n       [0., 0., 0., 0., 0., 0.]])\\n\\n'"
            ],
            "application/vnd.google.colaboratory.intrinsic+json": {
              "type": "string"
            }
          },
          "metadata": {},
          "execution_count": 18
        }
      ]
    },
    {
      "cell_type": "code",
      "source": [
        "A = np.zeros(10)\n",
        "A"
      ],
      "metadata": {
        "colab": {
          "base_uri": "https://localhost:8080/"
        },
        "id": "6WZX5MITHSeM",
        "outputId": "c79d2928-bbec-4145-d44a-b5dc384a7e04"
      },
      "execution_count": 19,
      "outputs": [
        {
          "output_type": "execute_result",
          "data": {
            "text/plain": [
              "array([0., 0., 0., 0., 0., 0., 0., 0., 0., 0.])"
            ]
          },
          "metadata": {},
          "execution_count": 19
        }
      ]
    },
    {
      "cell_type": "code",
      "source": [
        "B = np.zeros(shape=(2, 2))\n",
        "B"
      ],
      "metadata": {
        "colab": {
          "base_uri": "https://localhost:8080/"
        },
        "id": "AIFtRmw-HVGP",
        "outputId": "b7f2db35-8f2b-4475-a8f8-1f96471cd931"
      },
      "execution_count": 20,
      "outputs": [
        {
          "output_type": "execute_result",
          "data": {
            "text/plain": [
              "array([[0., 0.],\n",
              "       [0., 0.]])"
            ]
          },
          "metadata": {},
          "execution_count": 20
        }
      ]
    },
    {
      "cell_type": "code",
      "source": [
        "C = np.zeros(shape=(4, 6))\n",
        "C"
      ],
      "metadata": {
        "colab": {
          "base_uri": "https://localhost:8080/"
        },
        "id": "HUecurlaHX8J",
        "outputId": "e4e89dba-851d-44f2-a5e1-f0cc45136939"
      },
      "execution_count": 21,
      "outputs": [
        {
          "output_type": "execute_result",
          "data": {
            "text/plain": [
              "array([[0., 0., 0., 0., 0., 0.],\n",
              "       [0., 0., 0., 0., 0., 0.],\n",
              "       [0., 0., 0., 0., 0., 0.],\n",
              "       [0., 0., 0., 0., 0., 0.]])"
            ]
          },
          "metadata": {},
          "execution_count": 21
        }
      ]
    },
    {
      "cell_type": "code",
      "source": [
        "'''\n",
        "Crie os arrays a seguir:\n",
        "a)array([[10],\n",
        "       [15],\n",
        "       [20],\n",
        "       [25],\n",
        "       [30],\n",
        "       [35],\n",
        "       [40],\n",
        "       [45]])\n",
        "\n",
        "\n",
        "b)array([-50, -45, -40, -35, -30, -25, -20, -15, -10,  -5])\n",
        "\n",
        "\n",
        "c)array([[ 50,  52,  54,  56,  58,  60,  62,  64,  66,  68],\n",
        "       [ 70,  72,  74,  76,  78,  80,  82,  84,  86,  88],\n",
        "       [ 90,  92,  94,  96,  98, 100, 102, 104, 106, 108],\n",
        "       [110, 112, 114, 116, 118, 120, 122, 124, 126, 128],\n",
        "       [130, 132, 134, 136, 138, 140, 142, 144, 146, 148]])\n",
        "       \n",
        "\n",
        "Dica: use np.arange() ou np.array(range()).\n",
        "'''"
      ],
      "metadata": {
        "id": "bPIRklb_HfBk",
        "colab": {
          "base_uri": "https://localhost:8080/",
          "height": 87
        },
        "outputId": "4f7eb62a-e9ad-4372-9097-258ece4e88cf"
      },
      "execution_count": 22,
      "outputs": [
        {
          "output_type": "execute_result",
          "data": {
            "text/plain": [
              "'\\nCrie os arrays a seguir:\\na)array([[10],\\n       [15],\\n       [20],\\n       [25],\\n       [30],\\n       [35],\\n       [40],\\n       [45]])\\n\\n\\nb)array([-50, -45, -40, -35, -30, -25, -20, -15, -10,  -5])\\n\\n\\nc)array([[ 50,  52,  54,  56,  58,  60,  62,  64,  66,  68],\\n       [ 70,  72,  74,  76,  78,  80,  82,  84,  86,  88],\\n       [ 90,  92,  94,  96,  98, 100, 102, 104, 106, 108],\\n       [110, 112, 114, 116, 118, 120, 122, 124, 126, 128],\\n       [130, 132, 134, 136, 138, 140, 142, 144, 146, 148]])\\n       \\n\\nDica: use np.arange() ou np.array(range()).\\n'"
            ],
            "application/vnd.google.colaboratory.intrinsic+json": {
              "type": "string"
            }
          },
          "metadata": {},
          "execution_count": 22
        }
      ]
    },
    {
      "cell_type": "code",
      "source": [
        "A = np.array(range(10, 50, 5)).reshape(8, 1)\n",
        "A"
      ],
      "metadata": {
        "colab": {
          "base_uri": "https://localhost:8080/"
        },
        "id": "jxqB-B9qJKk9",
        "outputId": "4b80622d-5d96-4d66-f8bb-0a24e76f9449"
      },
      "execution_count": 23,
      "outputs": [
        {
          "output_type": "execute_result",
          "data": {
            "text/plain": [
              "array([[10],\n",
              "       [15],\n",
              "       [20],\n",
              "       [25],\n",
              "       [30],\n",
              "       [35],\n",
              "       [40],\n",
              "       [45]])"
            ]
          },
          "metadata": {},
          "execution_count": 23
        }
      ]
    },
    {
      "cell_type": "code",
      "source": [
        "B = np.array(range(-50, 0, 5))\n",
        "B"
      ],
      "metadata": {
        "colab": {
          "base_uri": "https://localhost:8080/"
        },
        "id": "YsTlR1WZJUok",
        "outputId": "bf7c8a95-f984-4f3f-88bd-8d069cc44464"
      },
      "execution_count": 24,
      "outputs": [
        {
          "output_type": "execute_result",
          "data": {
            "text/plain": [
              "array([-50, -45, -40, -35, -30, -25, -20, -15, -10,  -5])"
            ]
          },
          "metadata": {},
          "execution_count": 24
        }
      ]
    },
    {
      "cell_type": "code",
      "source": [
        "C = np.array(range(50, 150, 2)).reshape(5, 10)\n",
        "C"
      ],
      "metadata": {
        "colab": {
          "base_uri": "https://localhost:8080/"
        },
        "id": "JsQkpTA5LiXT",
        "outputId": "e0227b89-4f9f-4a93-e929-22856802713b"
      },
      "execution_count": 25,
      "outputs": [
        {
          "output_type": "execute_result",
          "data": {
            "text/plain": [
              "array([[ 50,  52,  54,  56,  58,  60,  62,  64,  66,  68],\n",
              "       [ 70,  72,  74,  76,  78,  80,  82,  84,  86,  88],\n",
              "       [ 90,  92,  94,  96,  98, 100, 102, 104, 106, 108],\n",
              "       [110, 112, 114, 116, 118, 120, 122, 124, 126, 128],\n",
              "       [130, 132, 134, 136, 138, 140, 142, 144, 146, 148]])"
            ]
          },
          "metadata": {},
          "execution_count": 25
        }
      ]
    },
    {
      "cell_type": "code",
      "source": [
        "'''\n",
        "Exercício 7\n",
        "Utilize a função np.full(shape, fill_value, dtype) para criar os arrays a seguir. \n",
        "Esta função permite criar um array com um shape e dtype definidos pelo usuário, \n",
        "preenchido com um determinado valor.\n",
        "\n",
        "a)array([5., 5., 5., 5., 5., 5., 5., 5., 5., 5.])\n",
        "\n",
        "\n",
        "b)array([[-5., -5., -5., -5.],\n",
        "       [-5., -5., -5., -5.],\n",
        "       [-5., -5., -5., -5.],\n",
        "       [-5., -5., -5., -5.]])\n",
        "\n",
        "\n",
        "c)array([[3, 3, 3],\n",
        "       [3, 3, 3],\n",
        "       [3, 3, 3]])\n",
        "\n",
        "d)array([[50, 50, 50, 50, 50, 50, 50, 50, 50, 50],\n",
        "       [50, 50, 50, 50, 50, 50, 50, 50, 50, 50],\n",
        "       [50, 50, 50, 50, 50, 50, 50, 50, 50, 50],\n",
        "       [50, 50, 50, 50, 50, 50, 50, 50, 50, 50],\n",
        "       [50, 50, 50, 50, 50, 50, 50, 50, 50, 50],\n",
        "       [50, 50, 50, 50, 50, 50, 50, 50, 50, 50],\n",
        "       [50, 50, 50, 50, 50, 50, 50, 50, 50, 50],\n",
        "       [50, 50, 50, 50, 50, 50, 50, 50, 50, 50],\n",
        "       [50, 50, 50, 50, 50, 50, 50, 50, 50, 50],\n",
        "       [50, 50, 50, 50, 50, 50, 50, 50, 50, 50]])\n",
        "\n",
        "\n",
        "Dica: outra possibilidade seria obter os arrays com uma operação diferente, a partir da multiplicação de uma matriz preenchida com número 1 por um determinado valor.\n",
        "'''"
      ],
      "metadata": {
        "id": "q-BCS3FMLrtf",
        "colab": {
          "base_uri": "https://localhost:8080/",
          "height": 123
        },
        "outputId": "ddc1d9cf-1656-4464-b210-ba2e24ba38e6"
      },
      "execution_count": 26,
      "outputs": [
        {
          "output_type": "execute_result",
          "data": {
            "text/plain": [
              "'\\nExercício 7\\nUtilize a função np.full(shape, fill_value, dtype) para criar os arrays a seguir. \\nEsta função permite criar um array com um shape e dtype definidos pelo usuário, \\npreenchido com um determinado valor.\\n\\na)array([5., 5., 5., 5., 5., 5., 5., 5., 5., 5.])\\n\\n\\nb)array([[-5., -5., -5., -5.],\\n       [-5., -5., -5., -5.],\\n       [-5., -5., -5., -5.],\\n       [-5., -5., -5., -5.]])\\n\\n\\nc)array([[3, 3, 3],\\n       [3, 3, 3],\\n       [3, 3, 3]])\\n\\nd)array([[50, 50, 50, 50, 50, 50, 50, 50, 50, 50],\\n       [50, 50, 50, 50, 50, 50, 50, 50, 50, 50],\\n       [50, 50, 50, 50, 50, 50, 50, 50, 50, 50],\\n       [50, 50, 50, 50, 50, 50, 50, 50, 50, 50],\\n       [50, 50, 50, 50, 50, 50, 50, 50, 50, 50],\\n       [50, 50, 50, 50, 50, 50, 50, 50, 50, 50],\\n       [50, 50, 50, 50, 50, 50, 50, 50, 50, 50],\\n       [50, 50, 50, 50, 50, 50, 50, 50, 50, 50],\\n       [50, 50, 50, 50, 50, 50, 50, 50, 50, 50],\\n       [50, 50, 50, 50, 50, 50, 50, 50, 50, 50]])\\n\\n\\nDica: outra possibilidade seria obter os arrays com uma operação diferente, a partir da multiplicação de uma matriz preenchida com número 1 por um determinado valor.\\n'"
            ],
            "application/vnd.google.colaboratory.intrinsic+json": {
              "type": "string"
            }
          },
          "metadata": {},
          "execution_count": 26
        }
      ]
    },
    {
      "cell_type": "code",
      "source": [
        "A = np.full(shape=(1,10), fill_value=5 , dtype=float)\n",
        "A"
      ],
      "metadata": {
        "colab": {
          "base_uri": "https://localhost:8080/"
        },
        "id": "jSem8tvy4ccE",
        "outputId": "11e9fe85-205a-41e9-c2f6-0cb5dd48708e"
      },
      "execution_count": 27,
      "outputs": [
        {
          "output_type": "execute_result",
          "data": {
            "text/plain": [
              "array([[5., 5., 5., 5., 5., 5., 5., 5., 5., 5.]])"
            ]
          },
          "metadata": {},
          "execution_count": 27
        }
      ]
    },
    {
      "cell_type": "code",
      "source": [
        "B = np.full(shape=(4, 4), fill_value = -5, dtype=float)\n",
        "B"
      ],
      "metadata": {
        "colab": {
          "base_uri": "https://localhost:8080/"
        },
        "id": "S2Ef7bgB4gkw",
        "outputId": "fe98f270-1e9b-4508-9c14-aebb2cc9e4e4"
      },
      "execution_count": 28,
      "outputs": [
        {
          "output_type": "execute_result",
          "data": {
            "text/plain": [
              "array([[-5., -5., -5., -5.],\n",
              "       [-5., -5., -5., -5.],\n",
              "       [-5., -5., -5., -5.],\n",
              "       [-5., -5., -5., -5.]])"
            ]
          },
          "metadata": {},
          "execution_count": 28
        }
      ]
    },
    {
      "cell_type": "code",
      "source": [
        "C = np.full(shape=(3, 3), fill_value = 3, dtype=int)\n",
        "C"
      ],
      "metadata": {
        "colab": {
          "base_uri": "https://localhost:8080/"
        },
        "id": "5dFq4Ifd7EKw",
        "outputId": "49b1c36e-98a2-44a1-f1df-9d08c763fb37"
      },
      "execution_count": 29,
      "outputs": [
        {
          "output_type": "execute_result",
          "data": {
            "text/plain": [
              "array([[3, 3, 3],\n",
              "       [3, 3, 3],\n",
              "       [3, 3, 3]])"
            ]
          },
          "metadata": {},
          "execution_count": 29
        }
      ]
    },
    {
      "cell_type": "code",
      "source": [
        "D = np.full(shape=(10, 10), fill_value = 50, dtype=int)\n",
        "D"
      ],
      "metadata": {
        "colab": {
          "base_uri": "https://localhost:8080/"
        },
        "id": "toTFFPB_7MCn",
        "outputId": "1795bbfa-d336-4540-b4cf-cb0c3f84b0d4"
      },
      "execution_count": 30,
      "outputs": [
        {
          "output_type": "execute_result",
          "data": {
            "text/plain": [
              "array([[50, 50, 50, 50, 50, 50, 50, 50, 50, 50],\n",
              "       [50, 50, 50, 50, 50, 50, 50, 50, 50, 50],\n",
              "       [50, 50, 50, 50, 50, 50, 50, 50, 50, 50],\n",
              "       [50, 50, 50, 50, 50, 50, 50, 50, 50, 50],\n",
              "       [50, 50, 50, 50, 50, 50, 50, 50, 50, 50],\n",
              "       [50, 50, 50, 50, 50, 50, 50, 50, 50, 50],\n",
              "       [50, 50, 50, 50, 50, 50, 50, 50, 50, 50],\n",
              "       [50, 50, 50, 50, 50, 50, 50, 50, 50, 50],\n",
              "       [50, 50, 50, 50, 50, 50, 50, 50, 50, 50],\n",
              "       [50, 50, 50, 50, 50, 50, 50, 50, 50, 50]])"
            ]
          },
          "metadata": {},
          "execution_count": 30
        }
      ]
    },
    {
      "cell_type": "code",
      "source": [
        "'''\n",
        "Defina o array K e verifique se há dados ausentes (missing data). Use a função np.isnan().\n",
        "array([[ nan,   1.,  10.,   0.],\n",
        "       [ nan,  nan,  nan,  nan],\n",
        "       [100.,  50.,  nan, -25.],\n",
        "       [ 30.,  nan,  nan, 130.]])\n",
        "'''"
      ],
      "metadata": {
        "id": "YdIDz7bD7VNT",
        "colab": {
          "base_uri": "https://localhost:8080/",
          "height": 52
        },
        "outputId": "76d50088-9b75-4645-c03f-886124ea6c5d"
      },
      "execution_count": 31,
      "outputs": [
        {
          "output_type": "execute_result",
          "data": {
            "text/plain": [
              "'\\nDefina o array K e verifique se há dados ausentes (missing data). Use a função np.isnan().\\narray([[ nan,   1.,  10.,   0.],\\n       [ nan,  nan,  nan,  nan],\\n       [100.,  50.,  nan, -25.],\\n       [ 30.,  nan,  nan, 130.]])\\n'"
            ],
            "application/vnd.google.colaboratory.intrinsic+json": {
              "type": "string"
            }
          },
          "metadata": {},
          "execution_count": 31
        }
      ]
    },
    {
      "cell_type": "code",
      "source": [
        "K = np.array([\n",
        "    [np.nan, 1, 10, 0],\n",
        "    [np.nan,np.nan,np.nan,np.nan],\n",
        "    [100, 50, np.nan, -25],\n",
        "    [30, np.nan, np.nan, 130]])"
      ],
      "metadata": {
        "id": "JH-YaZOJ9YSp"
      },
      "execution_count": 32,
      "outputs": []
    },
    {
      "cell_type": "code",
      "source": [
        "print(np.isnan(K))"
      ],
      "metadata": {
        "colab": {
          "base_uri": "https://localhost:8080/"
        },
        "id": "kkv8s5Bz9czN",
        "outputId": "a6f016ce-8ffb-4f6b-d3c0-4a762f1f84ba"
      },
      "execution_count": 33,
      "outputs": [
        {
          "output_type": "stream",
          "name": "stdout",
          "text": [
            "[[ True False False False]\n",
            " [ True  True  True  True]\n",
            " [False False  True False]\n",
            " [False  True  True False]]\n"
          ]
        }
      ]
    },
    {
      "cell_type": "code",
      "source": [
        "print(f'Há {np.isnan(K).sum()} dados ausentes em K')"
      ],
      "metadata": {
        "colab": {
          "base_uri": "https://localhost:8080/"
        },
        "id": "B_TrzLj294Lm",
        "outputId": "4128adbc-de86-41f5-a106-b30a26551bcb"
      },
      "execution_count": 34,
      "outputs": [
        {
          "output_type": "stream",
          "name": "stdout",
          "text": [
            "Há 8 dados ausentes em K\n"
          ]
        }
      ]
    },
    {
      "cell_type": "code",
      "source": [
        "'''\n",
        "Exercício 9\n",
        "A função np.linspace() retorna um array com números contendo espaçamento uniforme em um intervalo definido. \n",
        "Crie um array com números dentro do intervalo [1,21] em 5 partes.\n",
        "\n",
        "Retorno esperado:\n",
        "array([ 1.,  6., 11., 16., 21.])\n",
        "'''"
      ],
      "metadata": {
        "id": "mTKNbd5L-Ji9",
        "colab": {
          "base_uri": "https://localhost:8080/",
          "height": 52
        },
        "outputId": "e89401ad-a8f0-4934-93ff-f463d733c653"
      },
      "execution_count": 35,
      "outputs": [
        {
          "output_type": "execute_result",
          "data": {
            "text/plain": [
              "'\\nExercício 9\\nA função np.linspace() retorna um array com números contendo espaçamento uniforme em um intervalo definido. \\nCrie um array com números dentro do intervalo [1,21] em 5 partes.\\n\\nRetorno esperado:\\narray([ 1.,  6., 11., 16., 21.])\\n'"
            ],
            "application/vnd.google.colaboratory.intrinsic+json": {
              "type": "string"
            }
          },
          "metadata": {},
          "execution_count": 35
        }
      ]
    },
    {
      "cell_type": "code",
      "source": [
        "np.linspace(1, 21, 5)"
      ],
      "metadata": {
        "colab": {
          "base_uri": "https://localhost:8080/"
        },
        "id": "I-G2WeusDRHW",
        "outputId": "a892ab4e-d8f0-499c-876d-a23abc4bf353"
      },
      "execution_count": 36,
      "outputs": [
        {
          "output_type": "execute_result",
          "data": {
            "text/plain": [
              "array([ 1.,  6., 11., 16., 21.])"
            ]
          },
          "metadata": {},
          "execution_count": 36
        }
      ]
    },
    {
      "cell_type": "code",
      "source": [
        "'''\n",
        "Exercício 10\n",
        "A função np.logspace() retorna números com espaçamento uniforme em uma escala logarítmica. \n",
        "Crie um array com números dentro do intervalo [1, 51] em 10 partes com a função np.logspace().\n",
        "\n",
        "Retorno esperado:\n",
        "array([[1.00000000e+01],\n",
        "       [3.59381366e+06],\n",
        "       [1.29154967e+12],\n",
        "       [4.64158883e+17],\n",
        "       [1.66810054e+23],\n",
        "       [5.99484250e+28],\n",
        "       [2.15443469e+34],\n",
        "       [7.74263683e+39],\n",
        "       [2.78255940e+45],\n",
        "       [1.00000000e+51]])\n",
        "'''"
      ],
      "metadata": {
        "id": "yd4UAtkrDUYM",
        "colab": {
          "base_uri": "https://localhost:8080/",
          "height": 70
        },
        "outputId": "ffaf99e4-f5fd-49d6-c908-fd12fc876b98"
      },
      "execution_count": 37,
      "outputs": [
        {
          "output_type": "execute_result",
          "data": {
            "text/plain": [
              "'\\nExercício 10\\nA função np.logspace() retorna números com espaçamento uniforme em uma escala logarítmica. \\nCrie um array com números dentro do intervalo [1, 51] em 10 partes com a função np.logspace().\\n\\nRetorno esperado:\\narray([[1.00000000e+01],\\n       [3.59381366e+06],\\n       [1.29154967e+12],\\n       [4.64158883e+17],\\n       [1.66810054e+23],\\n       [5.99484250e+28],\\n       [2.15443469e+34],\\n       [7.74263683e+39],\\n       [2.78255940e+45],\\n       [1.00000000e+51]])\\n'"
            ],
            "application/vnd.google.colaboratory.intrinsic+json": {
              "type": "string"
            }
          },
          "metadata": {},
          "execution_count": 37
        }
      ]
    },
    {
      "cell_type": "code",
      "source": [
        "np.logspace(1, 51, 10).reshape(10, 1)"
      ],
      "metadata": {
        "colab": {
          "base_uri": "https://localhost:8080/"
        },
        "id": "ZebbtgQREoFJ",
        "outputId": "09dfb51c-1a76-4610-c85c-5faebe8653f0"
      },
      "execution_count": 38,
      "outputs": [
        {
          "output_type": "execute_result",
          "data": {
            "text/plain": [
              "array([[1.00000000e+01],\n",
              "       [3.59381366e+06],\n",
              "       [1.29154967e+12],\n",
              "       [4.64158883e+17],\n",
              "       [1.66810054e+23],\n",
              "       [5.99484250e+28],\n",
              "       [2.15443469e+34],\n",
              "       [7.74263683e+39],\n",
              "       [2.78255940e+45],\n",
              "       [1.00000000e+51]])"
            ]
          },
          "metadata": {},
          "execution_count": 38
        }
      ]
    },
    {
      "cell_type": "code",
      "source": [
        "'''\n",
        "Exercício 11\n",
        "Use a função np.diag() para construir o array a seguir:\n",
        "array([[ 5,  0,  0,  0,  0,  0],\n",
        "       [ 0, 10,  0,  0,  0,  0],\n",
        "       [ 0,  0, 15,  0,  0,  0],\n",
        "       [ 0,  0,  0, 20,  0,  0],\n",
        "       [ 0,  0,  0,  0, 25,  0],\n",
        "       [ 0,  0,  0,  0,  0, 30]])\n",
        "'''"
      ],
      "metadata": {
        "id": "9ax6hixHEsHf",
        "colab": {
          "base_uri": "https://localhost:8080/",
          "height": 52
        },
        "outputId": "cee5f50a-7c35-4418-86bb-ba00cfdf8918"
      },
      "execution_count": 39,
      "outputs": [
        {
          "output_type": "execute_result",
          "data": {
            "text/plain": [
              "'\\nExercício 11\\nUse a função np.diag() para construir o array a seguir:\\narray([[ 5,  0,  0,  0,  0,  0],\\n       [ 0, 10,  0,  0,  0,  0],\\n       [ 0,  0, 15,  0,  0,  0],\\n       [ 0,  0,  0, 20,  0,  0],\\n       [ 0,  0,  0,  0, 25,  0],\\n       [ 0,  0,  0,  0,  0, 30]])\\n'"
            ],
            "application/vnd.google.colaboratory.intrinsic+json": {
              "type": "string"
            }
          },
          "metadata": {},
          "execution_count": 39
        }
      ]
    },
    {
      "cell_type": "code",
      "source": [
        "np.diag(range(5, 31, 5))"
      ],
      "metadata": {
        "colab": {
          "base_uri": "https://localhost:8080/"
        },
        "id": "NS_s_OP1Fysp",
        "outputId": "be0829ef-dda4-4163-ba8b-7198215a2def"
      },
      "execution_count": 40,
      "outputs": [
        {
          "output_type": "execute_result",
          "data": {
            "text/plain": [
              "array([[ 5,  0,  0,  0,  0,  0],\n",
              "       [ 0, 10,  0,  0,  0,  0],\n",
              "       [ 0,  0, 15,  0,  0,  0],\n",
              "       [ 0,  0,  0, 20,  0,  0],\n",
              "       [ 0,  0,  0,  0, 25,  0],\n",
              "       [ 0,  0,  0,  0,  0, 30]])"
            ]
          },
          "metadata": {},
          "execution_count": 40
        }
      ]
    },
    {
      "cell_type": "code",
      "source": [
        "'''\n",
        "Use a função np.eye() (ou ainda np.identity()) para obter o array seguir.\n",
        "\n",
        "array([[1., 0., 0., 0., 0., 0., 0., 0., 0., 0.],\n",
        "       [0., 1., 0., 0., 0., 0., 0., 0., 0., 0.],\n",
        "       [0., 0., 1., 0., 0., 0., 0., 0., 0., 0.],\n",
        "       [0., 0., 0., 1., 0., 0., 0., 0., 0., 0.],\n",
        "       [0., 0., 0., 0., 1., 0., 0., 0., 0., 0.],\n",
        "       [0., 0., 0., 0., 0., 1., 0., 0., 0., 0.],\n",
        "       [0., 0., 0., 0., 0., 0., 1., 0., 0., 0.],\n",
        "       [0., 0., 0., 0., 0., 0., 0., 1., 0., 0.],\n",
        "       [0., 0., 0., 0., 0., 0., 0., 0., 1., 0.],\n",
        "       [0., 0., 0., 0., 0., 0., 0., 0., 0., 1.]])\n",
        "\n",
        "Dica: essa matriz é definida como matriz identidade, neste caso de ordem 10, e assume grande relevância em diversos cálculos computacionais, como veremos mais adiante.\n",
        "'''"
      ],
      "metadata": {
        "colab": {
          "base_uri": "https://localhost:8080/",
          "height": 104
        },
        "id": "fPNhPkVmF1cS",
        "outputId": "2ebc11a4-2deb-47db-ebfd-03085445578c"
      },
      "execution_count": 41,
      "outputs": [
        {
          "output_type": "execute_result",
          "data": {
            "text/plain": [
              "'\\nUse a função np.eye() (ou ainda np.identity()) para obter o array seguir.\\n\\narray([[1., 0., 0., 0., 0., 0., 0., 0., 0., 0.],\\n       [0., 1., 0., 0., 0., 0., 0., 0., 0., 0.],\\n       [0., 0., 1., 0., 0., 0., 0., 0., 0., 0.],\\n       [0., 0., 0., 1., 0., 0., 0., 0., 0., 0.],\\n       [0., 0., 0., 0., 1., 0., 0., 0., 0., 0.],\\n       [0., 0., 0., 0., 0., 1., 0., 0., 0., 0.],\\n       [0., 0., 0., 0., 0., 0., 1., 0., 0., 0.],\\n       [0., 0., 0., 0., 0., 0., 0., 1., 0., 0.],\\n       [0., 0., 0., 0., 0., 0., 0., 0., 1., 0.],\\n       [0., 0., 0., 0., 0., 0., 0., 0., 0., 1.]])\\n\\nDica: essa matriz é definida como matriz identidade, neste caso de ordem 10, e assume grande relevância em diversos cálculos computacionais, como veremos mais adiante.\\n'"
            ],
            "application/vnd.google.colaboratory.intrinsic+json": {
              "type": "string"
            }
          },
          "metadata": {},
          "execution_count": 41
        }
      ]
    },
    {
      "cell_type": "code",
      "source": [
        "np.identity(10) #ou"
      ],
      "metadata": {
        "colab": {
          "base_uri": "https://localhost:8080/"
        },
        "id": "SiHxws1hGpqK",
        "outputId": "185c5959-0a04-4b67-d239-77f2ba7356c6"
      },
      "execution_count": 42,
      "outputs": [
        {
          "output_type": "execute_result",
          "data": {
            "text/plain": [
              "array([[1., 0., 0., 0., 0., 0., 0., 0., 0., 0.],\n",
              "       [0., 1., 0., 0., 0., 0., 0., 0., 0., 0.],\n",
              "       [0., 0., 1., 0., 0., 0., 0., 0., 0., 0.],\n",
              "       [0., 0., 0., 1., 0., 0., 0., 0., 0., 0.],\n",
              "       [0., 0., 0., 0., 1., 0., 0., 0., 0., 0.],\n",
              "       [0., 0., 0., 0., 0., 1., 0., 0., 0., 0.],\n",
              "       [0., 0., 0., 0., 0., 0., 1., 0., 0., 0.],\n",
              "       [0., 0., 0., 0., 0., 0., 0., 1., 0., 0.],\n",
              "       [0., 0., 0., 0., 0., 0., 0., 0., 1., 0.],\n",
              "       [0., 0., 0., 0., 0., 0., 0., 0., 0., 1.]])"
            ]
          },
          "metadata": {},
          "execution_count": 42
        }
      ]
    },
    {
      "cell_type": "code",
      "source": [
        "np.eye(10)"
      ],
      "metadata": {
        "colab": {
          "base_uri": "https://localhost:8080/"
        },
        "id": "2Fe4QkF3GwyQ",
        "outputId": "fd45c53e-175d-4a20-9309-1b3cea4d7491"
      },
      "execution_count": 43,
      "outputs": [
        {
          "output_type": "execute_result",
          "data": {
            "text/plain": [
              "array([[1., 0., 0., 0., 0., 0., 0., 0., 0., 0.],\n",
              "       [0., 1., 0., 0., 0., 0., 0., 0., 0., 0.],\n",
              "       [0., 0., 1., 0., 0., 0., 0., 0., 0., 0.],\n",
              "       [0., 0., 0., 1., 0., 0., 0., 0., 0., 0.],\n",
              "       [0., 0., 0., 0., 1., 0., 0., 0., 0., 0.],\n",
              "       [0., 0., 0., 0., 0., 1., 0., 0., 0., 0.],\n",
              "       [0., 0., 0., 0., 0., 0., 1., 0., 0., 0.],\n",
              "       [0., 0., 0., 0., 0., 0., 0., 1., 0., 0.],\n",
              "       [0., 0., 0., 0., 0., 0., 0., 0., 1., 0.],\n",
              "       [0., 0., 0., 0., 0., 0., 0., 0., 0., 1.]])"
            ]
          },
          "metadata": {},
          "execution_count": 43
        }
      ]
    },
    {
      "cell_type": "code",
      "source": [
        "'''\n",
        "Exercício 14\n",
        "Obtenha a soma dos elementos de cada array a seguir. Use a função np.sum(). \n",
        "Implemente uma solução com loop for, para tanto armazene os vetores em uma lista.\n",
        "import numpy as np\n",
        "array1 = np.arange(1,11)\n",
        "array2 = np.linspace(1,50,10)\n",
        "array3 = np.array(range(51))\n",
        "array4 = np.logspace(1,10,5)\n",
        "array5 = np.diag(range(5,31,5))\n",
        "\n",
        "Retorno esperado:\n",
        "Soma dos elementos do array 1:  55\n",
        "Soma dos elementos do array 2:  255.0\n",
        "Soma dos elementos do array 3:  1275\n",
        "Soma dos elementos do array 4:  10056552148.564463\n",
        "Soma dos elementos do array 5:  105\n",
        "'''"
      ],
      "metadata": {
        "id": "GNtsIL00G0CN",
        "colab": {
          "base_uri": "https://localhost:8080/",
          "height": 87
        },
        "outputId": "d0d67388-93c9-4f39-8e62-481867f8fde0"
      },
      "execution_count": 44,
      "outputs": [
        {
          "output_type": "execute_result",
          "data": {
            "text/plain": [
              "'\\nExercício 14\\nObtenha a soma dos elementos de cada array a seguir. Use a função np.sum(). \\nImplemente uma solução com loop for, para tanto armazene os vetores em uma lista.\\nimport numpy as np\\narray1 = np.arange(1,11)\\narray2 = np.linspace(1,50,10)\\narray3 = np.array(range(51))\\narray4 = np.logspace(1,10,5)\\narray5 = np.diag(range(5,31,5))\\n\\nRetorno esperado:\\nSoma dos elementos do array 1:  55\\nSoma dos elementos do array 2:  255.0\\nSoma dos elementos do array 3:  1275\\nSoma dos elementos do array 4:  10056552148.564463\\nSoma dos elementos do array 5:  105\\n'"
            ],
            "application/vnd.google.colaboratory.intrinsic+json": {
              "type": "string"
            }
          },
          "metadata": {},
          "execution_count": 44
        }
      ]
    },
    {
      "cell_type": "code",
      "source": [
        "array1 = np.arange(1,11)\n",
        "array2 = np.linspace(1,50,10)\n",
        "array3 = np.array(range(51))\n",
        "array4 = np.logspace(1,10,5)\n",
        "array5 = np.diag(range(5,31,5))\n",
        "arrays = [array1, array2, array3, array4, array5]\n",
        "for index, arrays in enumerate(arrays, start = 1):\n",
        "  print(f'Soma dos elementos do array {index}: ', arrays.sum())"
      ],
      "metadata": {
        "colab": {
          "base_uri": "https://localhost:8080/"
        },
        "id": "zbylQQ7hIQ99",
        "outputId": "2324cfc2-02db-46a7-a567-2f5bf5fbb618"
      },
      "execution_count": 45,
      "outputs": [
        {
          "output_type": "stream",
          "name": "stdout",
          "text": [
            "Soma dos elementos do array 1:  55\n",
            "Soma dos elementos do array 2:  255.0\n",
            "Soma dos elementos do array 3:  1275\n",
            "Soma dos elementos do array 4:  10056552148.564463\n",
            "Soma dos elementos do array 5:  105\n"
          ]
        }
      ]
    },
    {
      "cell_type": "code",
      "source": [
        "'''\n",
        "A partir da matriz definida abaixo obtenha: \n",
        "a) soma total dos elementos; \n",
        "b) soma das linhas ; \n",
        "c) soma das colunas.\n",
        "import numpy as np\n",
        "matriz = np.array(np.random.randint(1,100,15)).reshape(5,3)\n",
        "'''"
      ],
      "metadata": {
        "id": "xfI22Wk3IZEr",
        "colab": {
          "base_uri": "https://localhost:8080/",
          "height": 52
        },
        "outputId": "699c3b06-6667-4aa2-a754-3663a3e59ae0"
      },
      "execution_count": 46,
      "outputs": [
        {
          "output_type": "execute_result",
          "data": {
            "text/plain": [
              "'\\nA partir da matriz definida abaixo obtenha: \\na) soma total dos elementos; \\nb) soma das linhas ; \\nc) soma das colunas.\\nimport numpy as np\\nmatriz = np.array(np.random.randint(1,100,15)).reshape(5,3)\\n'"
            ],
            "application/vnd.google.colaboratory.intrinsic+json": {
              "type": "string"
            }
          },
          "metadata": {},
          "execution_count": 46
        }
      ]
    },
    {
      "cell_type": "code",
      "source": [
        "matriz = np.array(np.random.randint(1,100,15)).reshape(5,3)"
      ],
      "metadata": {
        "id": "0QQkY3FrPVQL"
      },
      "execution_count": 47,
      "outputs": []
    },
    {
      "cell_type": "code",
      "source": [
        "A = matriz.sum()\n",
        "A"
      ],
      "metadata": {
        "colab": {
          "base_uri": "https://localhost:8080/"
        },
        "id": "IkhCpjMEQD-E",
        "outputId": "ce6779ac-0fa5-4b25-e0a7-f7e1a0810be4"
      },
      "execution_count": 48,
      "outputs": [
        {
          "output_type": "execute_result",
          "data": {
            "text/plain": [
              "839"
            ]
          },
          "metadata": {},
          "execution_count": 48
        }
      ]
    },
    {
      "cell_type": "code",
      "source": [
        "B = matriz.sum(axis=1)\n",
        "B"
      ],
      "metadata": {
        "colab": {
          "base_uri": "https://localhost:8080/"
        },
        "id": "p32Ge4PXQHlc",
        "outputId": "5cf8258f-ed68-4adf-99c0-69a8da0f703c"
      },
      "execution_count": 49,
      "outputs": [
        {
          "output_type": "execute_result",
          "data": {
            "text/plain": [
              "array([207, 164, 171, 126, 171])"
            ]
          },
          "metadata": {},
          "execution_count": 49
        }
      ]
    },
    {
      "cell_type": "code",
      "source": [
        "C = matriz.sum(axis=0)\n",
        "C"
      ],
      "metadata": {
        "colab": {
          "base_uri": "https://localhost:8080/"
        },
        "id": "wb-tS1K6QKjF",
        "outputId": "12823bfb-6454-493c-883f-61f71410902f"
      },
      "execution_count": 50,
      "outputs": [
        {
          "output_type": "execute_result",
          "data": {
            "text/plain": [
              "array([255, 232, 352])"
            ]
          },
          "metadata": {},
          "execution_count": 50
        }
      ]
    },
    {
      "cell_type": "code",
      "source": [
        "'''\n",
        "Exercício 16\n",
        "Obtenha o valor máximo e o valor mínimo de cada array abaixo. Implemente uma solução com loop for.\n",
        "import numpy as np\n",
        "array1 = np.array([-1, 10, 3, 4, 7, 27])\n",
        "array2 = np.random.randint(-100,300,30)\n",
        "array3 = np.random.randn(10)\n",
        "array4 = np.array(range(50,10,-2))\n",
        "\n",
        "Dica: para obter o valor máximo e mínimo de um array podemos usar array.max() e array.min() ( ou ainda max(array) e min(array)).\n",
        "'''\n"
      ],
      "metadata": {
        "id": "HdB6C7VHQNyD",
        "colab": {
          "base_uri": "https://localhost:8080/",
          "height": 70
        },
        "outputId": "2fa68215-933e-4625-8781-373c53609229"
      },
      "execution_count": 51,
      "outputs": [
        {
          "output_type": "execute_result",
          "data": {
            "text/plain": [
              "'\\nExercício 16\\nObtenha o valor máximo e o valor mínimo de cada array abaixo. Implemente uma solução com loop for.\\nimport numpy as np\\narray1 = np.array([-1, 10, 3, 4, 7, 27])\\narray2 = np.random.randint(-100,300,30)\\narray3 = np.random.randn(10)\\narray4 = np.array(range(50,10,-2))\\n\\nDica: para obter o valor máximo e mínimo de um array podemos usar array.max() e array.min() ( ou ainda max(array) e min(array)).\\n'"
            ],
            "application/vnd.google.colaboratory.intrinsic+json": {
              "type": "string"
            }
          },
          "metadata": {},
          "execution_count": 51
        }
      ]
    },
    {
      "cell_type": "code",
      "source": [
        "array1 = np.array([-1, 10, 3, 4, 7, 27])\n",
        "array2 = np.random.randint(-100,300,30)\n",
        "array3 = np.random.randn(10)\n",
        "array4 = np.array(range(50,10,-2))\n",
        "arrays = [array1, array2, array3, array4]"
      ],
      "metadata": {
        "id": "oFC0rHvxRZ-F"
      },
      "execution_count": 52,
      "outputs": []
    },
    {
      "cell_type": "code",
      "source": [
        "for index, array in enumerate(arrays, start = 1):\n",
        "    print(f'Array {index}')\n",
        "    print(f'Valor máximo: ', array.max())\n",
        "    print(f'Valor mínimo: ', array.min())\n",
        "    print()"
      ],
      "metadata": {
        "colab": {
          "base_uri": "https://localhost:8080/"
        },
        "id": "wv2McqD5RbG8",
        "outputId": "3c516b3f-e6be-4605-c092-066b22a58b74"
      },
      "execution_count": 53,
      "outputs": [
        {
          "output_type": "stream",
          "name": "stdout",
          "text": [
            "Array 1\n",
            "Valor máximo:  27\n",
            "Valor mínimo:  -1\n",
            "\n",
            "Array 2\n",
            "Valor máximo:  299\n",
            "Valor mínimo:  -92\n",
            "\n",
            "Array 3\n",
            "Valor máximo:  2.199959308149549\n",
            "Valor mínimo:  -0.6395060728520217\n",
            "\n",
            "Array 4\n",
            "Valor máximo:  50\n",
            "Valor mínimo:  12\n",
            "\n"
          ]
        }
      ]
    },
    {
      "cell_type": "code",
      "source": [
        "'''\n",
        "Exercício 17\n",
        "Crie uma função que receba uma matriz como entrada e calcule:\n",
        "\n",
        "    a) Valor máximo da matriz;\n",
        "\n",
        "    b) Valor máximo por coluna;\n",
        "\n",
        "    c) Valor máximo por linha;\n",
        "\n",
        "    d) Valor mínimo da matriz;\n",
        "\n",
        "    e) Valor mínimo por coluna;\n",
        "\n",
        "    f) Valor mínimo por linha.\n",
        "\n",
        "\n",
        "\n",
        "Exemplo de retorno para a matriz definida abaixo:\n",
        "Input:\n",
        "\n",
        "matriz = np.random.randint(-1000,1000,50).reshape(10,5)\n",
        "info_matriz(matriz)\n",
        "Output:\n",
        "\n",
        "Valor máximo da matriz:  987\n",
        "Valor máximo por coluna:  [959 987 597 748 719]\n",
        "Valor máximo por linha:  [ 987  312  982  204  719  689  101  793 -460  959]\n",
        "Valor mínimo da matriz:  -969\n",
        "Valor mínimo por coluna:  [-878 -966 -969 -884 -881]\n",
        "Valor mínimo por linha:  [  30 -878 -335 -863  -40 -289 -660 -239 -969 -966]\n",
        "'''"
      ],
      "metadata": {
        "id": "JBaaXUlhR3iV",
        "colab": {
          "base_uri": "https://localhost:8080/",
          "height": 104
        },
        "outputId": "6e32d5d7-6954-4600-e942-86943ab05738"
      },
      "execution_count": 54,
      "outputs": [
        {
          "output_type": "execute_result",
          "data": {
            "text/plain": [
              "'\\nExercício 17\\nCrie uma função que receba uma matriz como entrada e calcule:\\n\\n    a) Valor máximo da matriz;\\n\\n    b) Valor máximo por coluna;\\n\\n    c) Valor máximo por linha;\\n\\n    d) Valor mínimo da matriz;\\n\\n    e) Valor mínimo por coluna;\\n\\n    f) Valor mínimo por linha.\\n\\n\\n\\nExemplo de retorno para a matriz definida abaixo:\\nInput:\\n\\nmatriz = np.random.randint(-1000,1000,50).reshape(10,5)\\ninfo_matriz(matriz)\\nOutput:\\n\\nValor máximo da matriz:  987\\nValor máximo por coluna:  [959 987 597 748 719]\\nValor máximo por linha:  [ 987  312  982  204  719  689  101  793 -460  959]\\nValor mínimo da matriz:  -969\\nValor mínimo por coluna:  [-878 -966 -969 -884 -881]\\nValor mínimo por linha:  [  30 -878 -335 -863  -40 -289 -660 -239 -969 -966]\\n'"
            ],
            "application/vnd.google.colaboratory.intrinsic+json": {
              "type": "string"
            }
          },
          "metadata": {},
          "execution_count": 54
        }
      ]
    },
    {
      "cell_type": "code",
      "source": [
        "def info_matrix(matrix):\n",
        "  if isinstance(matrix,np.ndarray) and matrix.ndim == 2:\n",
        "    print(f'Valor máximo da matriz: ', matrix.max())\n",
        "    print(f'Valor máximo por coluna: ', matrix.max(axis = 0))\n",
        "    print(f'Valor máximo por coluna: ', matrix.max(axis = 1))\n",
        "    print(f'Valor mínimo da matriz: ', matrix.min())\n",
        "    print(f'Valor mínimo por coluna: ', matrix.min(axis = 0))\n",
        "    print(f'Valor mínimo por linha: ', matrix.min(axis =1))\n",
        "  else:\n",
        "    return None\n",
        "\n",
        "if __name__=='__main__':\n",
        "  matrix = np.random.randint(-1000,1000,50).reshape(10,5)\n",
        "  info_matrix(matrix)"
      ],
      "metadata": {
        "colab": {
          "base_uri": "https://localhost:8080/"
        },
        "id": "BW60aen8VmxS",
        "outputId": "183d67e0-bb94-4186-f382-8a8e9e42909d"
      },
      "execution_count": 55,
      "outputs": [
        {
          "output_type": "stream",
          "name": "stdout",
          "text": [
            "Valor máximo da matriz:  994\n",
            "Valor máximo por coluna:  [938 901 842 994 894]\n",
            "Valor máximo por coluna:  [652 994 613 113 894 938 484 931 620 759]\n",
            "Valor mínimo da matriz:  -964\n",
            "Valor mínimo por coluna:  [-936 -818 -821 -964 -797]\n",
            "Valor mínimo por linha:  [-719 -461 -936 -821 -696 -736 -752 -797 -680 -964]\n"
          ]
        }
      ]
    },
    {
      "cell_type": "code",
      "source": [
        "'''\n",
        "Exercício 18\n",
        "Com base no array definido abaixo obtenha sua média, mediana, variância e desvio padrão.\n",
        "import numpy as np\n",
        "arr = np.random.normal(40,0.5,size = (300))\n",
        "\n",
        "Dica:\n",
        "\n",
        "Média: np.mean();\n",
        "\n",
        "Mediana: np.median();\n",
        "\n",
        "Desvio padrão: np.std();\n",
        "\n",
        "Variância: np.var().\n",
        "'''"
      ],
      "metadata": {
        "id": "4C_pUqZQWcWk",
        "colab": {
          "base_uri": "https://localhost:8080/",
          "height": 52
        },
        "outputId": "33473407-7da3-4617-cca6-4df5fc8ffe91"
      },
      "execution_count": 56,
      "outputs": [
        {
          "output_type": "execute_result",
          "data": {
            "text/plain": [
              "'\\nExercício 18\\nCom base no array definido abaixo obtenha sua média, mediana, variância e desvio padrão.\\nimport numpy as np\\narr = np.random.normal(40,0.5,size = (300))\\n\\nDica:\\n\\nMédia: np.mean();\\n\\nMediana: np.median();\\n\\nDesvio padrão: np.std();\\n\\nVariância: np.var().\\n'"
            ],
            "application/vnd.google.colaboratory.intrinsic+json": {
              "type": "string"
            }
          },
          "metadata": {},
          "execution_count": 56
        }
      ]
    },
    {
      "cell_type": "code",
      "source": [
        "arr = np.random.normal(40,0.5,size = (300))"
      ],
      "metadata": {
        "id": "1MHHhteHHP9b"
      },
      "execution_count": 57,
      "outputs": []
    },
    {
      "cell_type": "code",
      "source": [
        "media = np.mean(arr)\n",
        "print('Média: ', media)"
      ],
      "metadata": {
        "colab": {
          "base_uri": "https://localhost:8080/"
        },
        "id": "r84mkPYUHQpE",
        "outputId": "ed642767-cea5-4304-ec1b-b8de752d505e"
      },
      "execution_count": 58,
      "outputs": [
        {
          "output_type": "stream",
          "name": "stdout",
          "text": [
            "Média:  40.030117690622305\n"
          ]
        }
      ]
    },
    {
      "cell_type": "code",
      "source": [
        "mediana = np.median(arr)\n",
        "print('Mediana: ', mediana)"
      ],
      "metadata": {
        "colab": {
          "base_uri": "https://localhost:8080/"
        },
        "id": "xreohUY7HdSH",
        "outputId": "e23c4649-9276-4d1f-dca3-31d472a1264b"
      },
      "execution_count": 59,
      "outputs": [
        {
          "output_type": "stream",
          "name": "stdout",
          "text": [
            "Mediana:  40.0285726381289\n"
          ]
        }
      ]
    },
    {
      "cell_type": "code",
      "source": [
        "desvio_padrao = np.std(arr)\n",
        "print('Desvio Padrão: ', desvio_padrao)"
      ],
      "metadata": {
        "colab": {
          "base_uri": "https://localhost:8080/"
        },
        "id": "3tuZb54zHgwI",
        "outputId": "035f15ad-4c1c-464a-d767-2b896a1ecd9c"
      },
      "execution_count": 60,
      "outputs": [
        {
          "output_type": "stream",
          "name": "stdout",
          "text": [
            "Desvio Padrão:  0.4502688781069875\n"
          ]
        }
      ]
    },
    {
      "cell_type": "code",
      "source": [
        "varianca = np.var(arr)\n",
        "print('Variança: ', varianca)"
      ],
      "metadata": {
        "colab": {
          "base_uri": "https://localhost:8080/"
        },
        "id": "8bv2Q6cGHk7A",
        "outputId": "6f1e1788-0440-446c-c7c2-c51a4ed49618"
      },
      "execution_count": 61,
      "outputs": [
        {
          "output_type": "stream",
          "name": "stdout",
          "text": [
            "Variança:  0.2027420625917252\n"
          ]
        }
      ]
    },
    {
      "cell_type": "code",
      "source": [
        "'''\n",
        "Exercício 19\n",
        "Com base nos arrays definidos a seguir obtenha a matriz de covariância e a matriz de correlação.\n",
        "\n",
        "import numpy as np\n",
        "x = np.random.rand(100)\n",
        "y = np.random.uniform(size=100)\n",
        "\n",
        "Dica: use np.corrcoef() e np.cov().\n",
        "'''"
      ],
      "metadata": {
        "id": "KW5BxwbZHogD",
        "colab": {
          "base_uri": "https://localhost:8080/",
          "height": 52
        },
        "outputId": "3448e620-c324-4261-e98b-12d3e737d1e4"
      },
      "execution_count": 62,
      "outputs": [
        {
          "output_type": "execute_result",
          "data": {
            "text/plain": [
              "'\\nExercício 19\\nCom base nos arrays definidos a seguir obtenha a matriz de covariância e a matriz de correlação.\\n\\nimport numpy as np\\nx = np.random.rand(100)\\ny = np.random.uniform(size=100)\\n\\nDica: use np.corrcoef() e np.cov().\\n'"
            ],
            "application/vnd.google.colaboratory.intrinsic+json": {
              "type": "string"
            }
          },
          "metadata": {},
          "execution_count": 62
        }
      ]
    },
    {
      "cell_type": "code",
      "source": [
        "x = np.random.rand(100)\n",
        "y = np.random.uniform(size=100)"
      ],
      "metadata": {
        "id": "BEfF13uFJGzJ"
      },
      "execution_count": 63,
      "outputs": []
    },
    {
      "cell_type": "code",
      "source": [
        "print(f'Matriz de correlação: {np.corrcoef(x,y)}')\n",
        "print()\n",
        "print(f'Matriz de covariância: {np.cov(x,y)}')\n"
      ],
      "metadata": {
        "colab": {
          "base_uri": "https://localhost:8080/"
        },
        "id": "69bPbpzdJIaC",
        "outputId": "9af9c30b-0b2c-4c42-b131-48954799a717"
      },
      "execution_count": 64,
      "outputs": [
        {
          "output_type": "stream",
          "name": "stdout",
          "text": [
            "Matriz de correlação: [[ 1.        -0.1029524]\n",
            " [-0.1029524  1.       ]]\n",
            "\n",
            "Matriz de covariância: [[ 0.07187773 -0.00703281]\n",
            " [-0.00703281  0.06492186]]\n"
          ]
        }
      ]
    },
    {
      "cell_type": "code",
      "source": [
        "'''\n",
        "Exercício 20\n",
        "Obtenha o índice do valor máximo do array A.\n",
        "A = np.array([[11, 15, 33, 105],\n",
        "              [1, 140, 45, 90],\n",
        "              [67, 230, 78, 99]])\n",
        "\n",
        "\n",
        "Dica: use np.argmax() ou array.argmax().\n",
        "'''"
      ],
      "metadata": {
        "id": "mlGPgGxVJaRQ",
        "colab": {
          "base_uri": "https://localhost:8080/",
          "height": 52
        },
        "outputId": "6ace4b06-a136-4977-8b58-4ba91326abab"
      },
      "execution_count": 65,
      "outputs": [
        {
          "output_type": "execute_result",
          "data": {
            "text/plain": [
              "'\\nExercício 20\\nObtenha o índice do valor máximo do array A.\\nA = np.array([[11, 15, 33, 105],\\n              [1, 140, 45, 90],\\n              [67, 230, 78, 99]])\\n\\n\\nDica: use np.argmax() ou array.argmax().\\n'"
            ],
            "application/vnd.google.colaboratory.intrinsic+json": {
              "type": "string"
            }
          },
          "metadata": {},
          "execution_count": 65
        }
      ]
    },
    {
      "cell_type": "code",
      "source": [
        "A = np.array([[11, 15, 33, 105],\n",
        "              [1, 140, 45, 90],\n",
        "              [67, 230, 78, 99]])\n"
      ],
      "metadata": {
        "id": "0yCwaMnnLSNW"
      },
      "execution_count": 66,
      "outputs": []
    },
    {
      "cell_type": "code",
      "source": [
        "print(f'Valor máximo do array A: {A.max()}')\n",
        "print(f'Indice do valor máximo do array A: {A.argmax()}')"
      ],
      "metadata": {
        "colab": {
          "base_uri": "https://localhost:8080/"
        },
        "id": "FBSfxW5jLS0Y",
        "outputId": "a0a8f56a-4d71-49ad-9896-992c7b76e067"
      },
      "execution_count": 67,
      "outputs": [
        {
          "output_type": "stream",
          "name": "stdout",
          "text": [
            "Valor máximo do array A: 230\n",
            "Indice do valor máximo do array A: 9\n"
          ]
        }
      ]
    },
    {
      "cell_type": "code",
      "source": [
        "'''\n",
        "Exercício 21\n",
        "Obtenha o índice do valor mínimo do array B.\n",
        "B = np.array([\n",
        "    [73, 22, 20, 62,  3],\n",
        "    [68, 84, 27, 59, 93],\n",
        "    [48, 52,  4, 55, 50],\n",
        "    [42, 23, 63, 67,  4],\n",
        "    [44, 30, 41, 31, 29]])\n",
        "\n",
        "Dica: use np.argmin() ou array.argmin().\n",
        "'''"
      ],
      "metadata": {
        "id": "sw1lcg0zLUgH",
        "colab": {
          "base_uri": "https://localhost:8080/",
          "height": 52
        },
        "outputId": "3f7d33b7-b3c3-4d68-98b8-85103badc6ac"
      },
      "execution_count": 68,
      "outputs": [
        {
          "output_type": "execute_result",
          "data": {
            "text/plain": [
              "'\\nExercício 21\\nObtenha o índice do valor mínimo do array B.\\nB = np.array([\\n    [73, 22, 20, 62,  3],\\n    [68, 84, 27, 59, 93],\\n    [48, 52,  4, 55, 50],\\n    [42, 23, 63, 67,  4],\\n    [44, 30, 41, 31, 29]])\\n\\nDica: use np.argmin() ou array.argmin().\\n'"
            ],
            "application/vnd.google.colaboratory.intrinsic+json": {
              "type": "string"
            }
          },
          "metadata": {},
          "execution_count": 68
        }
      ]
    },
    {
      "cell_type": "code",
      "source": [
        "B = np.array([\n",
        "    [73, 22, 20, 62,  3],\n",
        "    [68, 84, 27, 59, 93],\n",
        "    [48, 52,  4, 55, 50],\n",
        "    [42, 23, 63, 67,  4],\n",
        "    [44, 30, 41, 31, 29]])\n"
      ],
      "metadata": {
        "id": "2X8XmsoiNBeu"
      },
      "execution_count": 69,
      "outputs": []
    },
    {
      "cell_type": "code",
      "source": [
        "print(f'Valor mínimo do array B: {B.min()}')\n",
        "print(f'Indíce do valor mínimo do array B: {B.argmin()}')"
      ],
      "metadata": {
        "colab": {
          "base_uri": "https://localhost:8080/"
        },
        "id": "RlW4-Nu8NCFI",
        "outputId": "4bf6dfbc-0c40-4387-af02-c4cc5c511630"
      },
      "execution_count": 70,
      "outputs": [
        {
          "output_type": "stream",
          "name": "stdout",
          "text": [
            "Valor mínimo do array B: 3\n",
            "Indíce do valor mínimo do array B: 4\n"
          ]
        }
      ]
    },
    {
      "cell_type": "code",
      "source": [
        "'''\n",
        "Exercício 22\n",
        "Escreva uma função que receba um array NumPy e mostre na tela um conjunto de  estatísticas descritivas deste objeto.\n",
        "\n",
        "Resultado esperado:\n",
        "\n",
        "Input\n",
        "\n",
        "array = np.array([-57, 101, 270, 130, 144])\n",
        "info_array(array)\n",
        "\n",
        "Output:\n",
        "\n",
        "Valor máximo: 270\n",
        "Valor mínimo: -57\n",
        "Média: 117.6\n",
        "Mediana: 130.0\n",
        "Variância: 10967.439999999999\n",
        "Desvio padrão: 104.72554607162475\n",
        "'''"
      ],
      "metadata": {
        "id": "el9mcGTuNPYj",
        "colab": {
          "base_uri": "https://localhost:8080/",
          "height": 70
        },
        "outputId": "19712949-cb29-4299-9d96-cb2b47ebb714"
      },
      "execution_count": 71,
      "outputs": [
        {
          "output_type": "execute_result",
          "data": {
            "text/plain": [
              "'\\nExercício 22\\nEscreva uma função que receba um array NumPy e mostre na tela um conjunto de  estatísticas descritivas deste objeto.\\n\\nResultado esperado:\\n\\nInput\\n\\narray = np.array([-57, 101, 270, 130, 144])\\ninfo_array(array)\\n\\nOutput:\\n\\nValor máximo: 270\\nValor mínimo: -57\\nMédia: 117.6\\nMediana: 130.0\\nVariância: 10967.439999999999\\nDesvio padrão: 104.72554607162475\\n'"
            ],
            "application/vnd.google.colaboratory.intrinsic+json": {
              "type": "string"
            }
          },
          "metadata": {},
          "execution_count": 71
        }
      ]
    },
    {
      "cell_type": "code",
      "source": [
        "def info_array(array):\n",
        "  if isinstance(array, np.ndarray):\n",
        "    print(f'Valor Máximo: ', array.max())\n",
        "    print(f'Valor Mínimo: ', array.min())\n",
        "    print(f'Média: ', array.mean())\n",
        "    print(f'Médiana: ', np.median(array))\n",
        "    print(f'Variança: ', array.var())\n",
        "    print(f'Desvio Padrão: ', array.std())\n",
        "  \n",
        "  else:\n",
        "    return None\n",
        "  \n",
        "if __name__=='__main__':\n",
        "  array = np.array([-57, 101, 270, 130, 144])\n",
        "  info_array(array) "
      ],
      "metadata": {
        "colab": {
          "base_uri": "https://localhost:8080/"
        },
        "id": "rxSxAzyuO_4n",
        "outputId": "23790c6c-3b6e-47cf-e936-a0486c067edd"
      },
      "execution_count": 72,
      "outputs": [
        {
          "output_type": "stream",
          "name": "stdout",
          "text": [
            "Valor Máximo:  270\n",
            "Valor Mínimo:  -57\n",
            "Média:  117.6\n",
            "Médiana:  130.0\n",
            "Variança:  10967.439999999999\n",
            "Desvio Padrão:  104.72554607162475\n"
          ]
        }
      ]
    },
    {
      "cell_type": "code",
      "source": [
        "'''\n",
        "Exercício 23\n",
        "Use a função np.unique() para obter um array com os elementos únicos do array abaixo. Para tanto, armazene o novo array em uma variável.\n",
        "A = np.array([\n",
        "    [1, 3, 3, 4, 5],\n",
        "    [4, 7, 11, 3, 5],\n",
        "    [1, 11, 4, 4, 11]])\n",
        "'''"
      ],
      "metadata": {
        "id": "aNiPacVVQZ_6",
        "colab": {
          "base_uri": "https://localhost:8080/",
          "height": 52
        },
        "outputId": "3311bcb6-273b-40cb-ec48-96134493a137"
      },
      "execution_count": 73,
      "outputs": [
        {
          "output_type": "execute_result",
          "data": {
            "text/plain": [
              "'\\nExercício 23\\nUse a função np.unique() para obter um array com os elementos únicos do array abaixo. Para tanto, armazene o novo array em uma variável.\\nA = np.array([\\n    [1, 3, 3, 4, 5],\\n    [4, 7, 11, 3, 5],\\n    [1, 11, 4, 4, 11]])\\n'"
            ],
            "application/vnd.google.colaboratory.intrinsic+json": {
              "type": "string"
            }
          },
          "metadata": {},
          "execution_count": 73
        }
      ]
    },
    {
      "cell_type": "code",
      "source": [
        "A = np.array([\n",
        "    [1, 3, 3, 4, 5],\n",
        "    [4, 7, 11, 3, 5],\n",
        "    [1, 11, 4, 4, 11]])"
      ],
      "metadata": {
        "id": "IrcK3GSeNLJg"
      },
      "execution_count": 74,
      "outputs": []
    },
    {
      "cell_type": "code",
      "source": [
        "array_nulos = np.unique(A)\n",
        "array_nulos"
      ],
      "metadata": {
        "colab": {
          "base_uri": "https://localhost:8080/"
        },
        "id": "FLYW46F0NLkN",
        "outputId": "8a68f9f6-4657-471f-b73f-6155ec2b2cf1"
      },
      "execution_count": 78,
      "outputs": [
        {
          "output_type": "execute_result",
          "data": {
            "text/plain": [
              "array([ 1,  3,  4,  5,  7, 11])"
            ]
          },
          "metadata": {},
          "execution_count": 78
        }
      ]
    },
    {
      "cell_type": "code",
      "source": [
        "'''\n",
        "Exercício 24\n",
        "Indexação de arrays 1-D\n",
        "Considerando os arrays abaixo:\n",
        "import numpy as np\n",
        "array1 = np.array([10, 20, 30, 40])\n",
        "array2 = np.array([100, 30, 5, 1, 40, 100, 20, 130, 155,170])\n",
        "   \n",
        "Obtenha:\n",
        "\n",
        "a) o primeiro, o terceiro e o último elemento de cada array;\n",
        "\n",
        "b) inverta o array;\n",
        "\n",
        "c) pegue o número 20 em ambos os arrays e armazene a soma em uma variável.\n",
        "'''"
      ],
      "metadata": {
        "id": "Z_K9b0iAN7zE"
      },
      "execution_count": null,
      "outputs": []
    },
    {
      "cell_type": "code",
      "source": [
        "array1 = np.array([10, 20, 30, 40])\n",
        "array2 = np.array([100, 30, 5, 1, 40, 100, 20, 130, 155,170])\n",
        "arrays = [array1, array2]"
      ],
      "metadata": {
        "id": "4-UD2_czPNBE"
      },
      "execution_count": 79,
      "outputs": []
    },
    {
      "cell_type": "code",
      "source": [
        "for index, array in enumerate(arrays, start = 1):\n",
        "    print(f'Array {index}')\n",
        "    print(f'Primeiro elemento: {array[0]}')\n",
        "    print(f'Terceiro elemento: {array[2]}')\n",
        "    print(f'Último elemento: {array[-1]}')\n",
        "    print(f'Array invertido: {array[::-1]}')\n",
        "\n",
        "soma = array1[1]  + array2[6]\n",
        "print('Soma do número 20 de cada array:', soma)"
      ],
      "metadata": {
        "colab": {
          "base_uri": "https://localhost:8080/"
        },
        "id": "BX4u4tm8Pmbn",
        "outputId": "0941e93a-a862-4fc0-9fc5-7b88ddac94b1"
      },
      "execution_count": 87,
      "outputs": [
        {
          "output_type": "stream",
          "name": "stdout",
          "text": [
            "Array 1\n",
            "Primeiro elemento: 10\n",
            "Terceiro elemento: 30\n",
            "Último elemento: 40\n",
            "Array invertido: [40 30 20 10]\n",
            "Array 2\n",
            "Primeiro elemento: 100\n",
            "Terceiro elemento: 5\n",
            "Último elemento: 170\n",
            "Array invertido: [170 155 130  20 100  40   1   5  30 100]\n",
            "Soma do número 20 de cada array: 40\n"
          ]
        }
      ]
    },
    {
      "cell_type": "code",
      "source": [
        "'''\n",
        "Exercício 25\n",
        "Indexação de arrays 2-D\n",
        "Acesse os números 9 e 90 do array abaixo.\n",
        "import numpy as np\n",
        "ar = np.array([[-1, 33, 44, 9, 1],[11, 1, 0, 90, 44]])\n",
        "'''"
      ],
      "metadata": {
        "id": "ZKwvzXCrQM1C"
      },
      "execution_count": null,
      "outputs": []
    },
    {
      "cell_type": "code",
      "source": [
        "ar = np.array([[-1, 33, 44, 9, 1],[11, 1, 0, 90, 44]])"
      ],
      "metadata": {
        "id": "GXe3kdnqRrcS"
      },
      "execution_count": 88,
      "outputs": []
    },
    {
      "cell_type": "code",
      "source": [
        "print(ar[0][3])\n",
        "print(ar[1][3])"
      ],
      "metadata": {
        "colab": {
          "base_uri": "https://localhost:8080/"
        },
        "id": "QWtJeKP5RsAv",
        "outputId": "c7963afe-fb27-4b69-f868-68ca0faf10eb"
      },
      "execution_count": 92,
      "outputs": [
        {
          "output_type": "stream",
          "name": "stdout",
          "text": [
            "9\n",
            "90\n"
          ]
        }
      ]
    },
    {
      "cell_type": "code",
      "source": [
        "'''\n",
        "Exercício 26\n",
        "Indexação de arrays 3-D\n",
        "Acesse os números 5, 9, 3 e 21 do array abaixo.\n",
        "import numpy as np\n",
        "ar = np.array([\n",
        "    [[1, 1, 5, 1],\n",
        "     [1, 1, 1, 9]],\n",
        "    [[1, 3, 1, 1],\n",
        "     [1, 1, 21, 1]]\n",
        "              ])\n",
        "'''"
      ],
      "metadata": {
        "id": "ozvu7WhERzL7"
      },
      "execution_count": null,
      "outputs": []
    },
    {
      "cell_type": "code",
      "source": [
        "ar = np.array([\n",
        "    [[1, 1, 5, 1],\n",
        "     [1, 1, 1, 9]],\n",
        "    [[1, 3, 1, 1],\n",
        "     [1, 1, 21, 1]]\n",
        "              ])"
      ],
      "metadata": {
        "id": "Fqs8DKR8Sk1v"
      },
      "execution_count": 93,
      "outputs": []
    },
    {
      "cell_type": "code",
      "source": [
        "print(ar[0][0][2]) #acessando número 5\n",
        "print(ar[0][1][3]) #acessando número 9\n",
        "print(ar[1][0][1]) #acessando número 3\n",
        "print(ar[1][1][2]) #acessando número 21"
      ],
      "metadata": {
        "colab": {
          "base_uri": "https://localhost:8080/"
        },
        "id": "yAnnH2HuSlXV",
        "outputId": "a8013139-6e98-49da-a6f6-8561ecd7dc4b"
      },
      "execution_count": 101,
      "outputs": [
        {
          "output_type": "stream",
          "name": "stdout",
          "text": [
            "5\n",
            "9\n",
            "3\n",
            "21\n"
          ]
        }
      ]
    },
    {
      "cell_type": "code",
      "source": [
        "'''\n",
        "Exercício 27\n",
        "Slicing 1-D\n",
        "\n",
        "Com base no array abaixo obtenha o slice do índice 2 até o índice 6.\n",
        "import numpy as np\n",
        "ar = np.array([1, 2, 3, 4, 5, 6, 7, 8, 9, 10])\n",
        "\n",
        "Dica: Em Python, slicing significa que podemos selecionar elementos entre índices especificados. Sintaxe: [start:end:pass].\n",
        "\n",
        "Se não especificarmos o start o valor default será 0. Se não definirmos o step, será considerado o valor 1.\n",
        "'''"
      ],
      "metadata": {
        "id": "gI4T-pZ0Sp4c"
      },
      "execution_count": null,
      "outputs": []
    },
    {
      "cell_type": "code",
      "source": [
        "ar = np.array([1, 2, 3, 4, 5, 6, 7, 8, 9, 10])"
      ],
      "metadata": {
        "id": "zq4OKuN9UJqb"
      },
      "execution_count": 102,
      "outputs": []
    },
    {
      "cell_type": "code",
      "source": [
        "print(ar[2:7])"
      ],
      "metadata": {
        "colab": {
          "base_uri": "https://localhost:8080/"
        },
        "id": "HICROSiGUKeL",
        "outputId": "b3e6b162-68dd-4519-a5ea-ef64160a0505"
      },
      "execution_count": 105,
      "outputs": [
        {
          "output_type": "stream",
          "name": "stdout",
          "text": [
            "[3 4 5 6 7]\n"
          ]
        }
      ]
    },
    {
      "cell_type": "code",
      "source": [],
      "metadata": {
        "id": "4uzFFmKMUNq3"
      },
      "execution_count": null,
      "outputs": []
    }
  ]
}